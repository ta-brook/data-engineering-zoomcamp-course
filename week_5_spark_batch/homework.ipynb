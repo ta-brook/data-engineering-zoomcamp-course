{
 "cells": [
  {
   "cell_type": "code",
   "execution_count": 1,
   "metadata": {},
   "outputs": [],
   "source": [
    "import findspark\n",
    "findspark.init()"
   ]
  },
  {
   "cell_type": "code",
   "execution_count": 2,
   "metadata": {},
   "outputs": [],
   "source": [
    "import pyspark\n",
    "from pyspark.sql import SparkSession\n",
    "\n",
    "spark = SparkSession.builder \\\n",
    "    .master(\"local[*]\") \\\n",
    "    .appName('test') \\\n",
    "    .getOrCreate()"
   ]
  },
  {
   "cell_type": "markdown",
   "metadata": {},
   "source": [
    "## Q1"
   ]
  },
  {
   "cell_type": "code",
   "execution_count": 3,
   "metadata": {},
   "outputs": [
    {
     "data": {
      "text/html": [
       "\n",
       "            <div>\n",
       "                <p><b>SparkSession - in-memory</b></p>\n",
       "                \n",
       "        <div>\n",
       "            <p><b>SparkContext</b></p>\n",
       "\n",
       "            <p><a href=\"http://DESKTOP-AOUJ0EH:4040\">Spark UI</a></p>\n",
       "\n",
       "            <dl>\n",
       "              <dt>Version</dt>\n",
       "                <dd><code>v3.0.3</code></dd>\n",
       "              <dt>Master</dt>\n",
       "                <dd><code>local[*]</code></dd>\n",
       "              <dt>AppName</dt>\n",
       "                <dd><code>test</code></dd>\n",
       "            </dl>\n",
       "        </div>\n",
       "        \n",
       "            </div>\n",
       "        "
      ],
      "text/plain": [
       "<pyspark.sql.session.SparkSession at 0x223c384fc70>"
      ]
     },
     "execution_count": 3,
     "metadata": {},
     "output_type": "execute_result"
    }
   ],
   "source": [
    "spark"
   ]
  },
  {
   "cell_type": "code",
   "execution_count": 5,
   "metadata": {},
   "outputs": [],
   "source": [
    "df = spark.read.parquet('code/data/fhvhv/')"
   ]
  },
  {
   "cell_type": "code",
   "execution_count": 6,
   "metadata": {},
   "outputs": [],
   "source": [
    "df \\\n",
    "    .repartition(24) \\\n",
    "    .write.parquet('code/report/fhvhv/')"
   ]
  },
  {
   "cell_type": "markdown",
   "metadata": {},
   "source": [
    "## Q2"
   ]
  },
  {
   "cell_type": "code",
   "execution_count": 7,
   "metadata": {},
   "outputs": [
    {
     "name": "stdout",
     "output_type": "stream",
     "text": [
      "total 511M\n",
      "-rw-r--r-- 1 tanaw 197609   0 Jun 10 18:38 _SUCCESS\n",
      "-rw-r--r-- 1 tanaw 197609 22M Jun 10 18:38 part-00000-18c51aad-6606-40f2-a0b8-19cc133c5d2b-c000.snappy.parquet\n",
      "-rw-r--r-- 1 tanaw 197609 22M Jun 10 18:38 part-00001-18c51aad-6606-40f2-a0b8-19cc133c5d2b-c000.snappy.parquet\n",
      "-rw-r--r-- 1 tanaw 197609 22M Jun 10 18:38 part-00002-18c51aad-6606-40f2-a0b8-19cc133c5d2b-c000.snappy.parquet\n",
      "-rw-r--r-- 1 tanaw 197609 22M Jun 10 18:38 part-00003-18c51aad-6606-40f2-a0b8-19cc133c5d2b-c000.snappy.parquet\n",
      "-rw-r--r-- 1 tanaw 197609 22M Jun 10 18:38 part-00004-18c51aad-6606-40f2-a0b8-19cc133c5d2b-c000.snappy.parquet\n",
      "-rw-r--r-- 1 tanaw 197609 22M Jun 10 18:38 part-00005-18c51aad-6606-40f2-a0b8-19cc133c5d2b-c000.snappy.parquet\n",
      "-rw-r--r-- 1 tanaw 197609 22M Jun 10 18:38 part-00006-18c51aad-6606-40f2-a0b8-19cc133c5d2b-c000.snappy.parquet\n",
      "-rw-r--r-- 1 tanaw 197609 22M Jun 10 18:38 part-00007-18c51aad-6606-40f2-a0b8-19cc133c5d2b-c000.snappy.parquet\n",
      "-rw-r--r-- 1 tanaw 197609 22M Jun 10 18:38 part-00008-18c51aad-6606-40f2-a0b8-19cc133c5d2b-c000.snappy.parquet\n",
      "-rw-r--r-- 1 tanaw 197609 22M Jun 10 18:38 part-00009-18c51aad-6606-40f2-a0b8-19cc133c5d2b-c000.snappy.parquet\n",
      "-rw-r--r-- 1 tanaw 197609 22M Jun 10 18:38 part-00010-18c51aad-6606-40f2-a0b8-19cc133c5d2b-c000.snappy.parquet\n",
      "-rw-r--r-- 1 tanaw 197609 22M Jun 10 18:38 part-00011-18c51aad-6606-40f2-a0b8-19cc133c5d2b-c000.snappy.parquet\n",
      "-rw-r--r-- 1 tanaw 197609 22M Jun 10 18:38 part-00012-18c51aad-6606-40f2-a0b8-19cc133c5d2b-c000.snappy.parquet\n",
      "-rw-r--r-- 1 tanaw 197609 22M Jun 10 18:38 part-00013-18c51aad-6606-40f2-a0b8-19cc133c5d2b-c000.snappy.parquet\n",
      "-rw-r--r-- 1 tanaw 197609 22M Jun 10 18:38 part-00014-18c51aad-6606-40f2-a0b8-19cc133c5d2b-c000.snappy.parquet\n",
      "-rw-r--r-- 1 tanaw 197609 22M Jun 10 18:38 part-00015-18c51aad-6606-40f2-a0b8-19cc133c5d2b-c000.snappy.parquet\n",
      "-rw-r--r-- 1 tanaw 197609 22M Jun 10 18:38 part-00016-18c51aad-6606-40f2-a0b8-19cc133c5d2b-c000.snappy.parquet\n",
      "-rw-r--r-- 1 tanaw 197609 22M Jun 10 18:38 part-00017-18c51aad-6606-40f2-a0b8-19cc133c5d2b-c000.snappy.parquet\n",
      "-rw-r--r-- 1 tanaw 197609 22M Jun 10 18:38 part-00018-18c51aad-6606-40f2-a0b8-19cc133c5d2b-c000.snappy.parquet\n",
      "-rw-r--r-- 1 tanaw 197609 22M Jun 10 18:38 part-00019-18c51aad-6606-40f2-a0b8-19cc133c5d2b-c000.snappy.parquet\n",
      "-rw-r--r-- 1 tanaw 197609 22M Jun 10 18:38 part-00020-18c51aad-6606-40f2-a0b8-19cc133c5d2b-c000.snappy.parquet\n",
      "-rw-r--r-- 1 tanaw 197609 22M Jun 10 18:38 part-00021-18c51aad-6606-40f2-a0b8-19cc133c5d2b-c000.snappy.parquet\n",
      "-rw-r--r-- 1 tanaw 197609 22M Jun 10 18:38 part-00022-18c51aad-6606-40f2-a0b8-19cc133c5d2b-c000.snappy.parquet\n",
      "-rw-r--r-- 1 tanaw 197609 22M Jun 10 18:38 part-00023-18c51aad-6606-40f2-a0b8-19cc133c5d2b-c000.snappy.parquet\n"
     ]
    }
   ],
   "source": [
    "!ls -lh code/report/fhvhv"
   ]
  },
  {
   "cell_type": "markdown",
   "metadata": {},
   "source": [
    "## Q3"
   ]
  },
  {
   "cell_type": "code",
   "execution_count": 24,
   "metadata": {},
   "outputs": [],
   "source": [
    "from pyspark.sql import functions as F"
   ]
  },
  {
   "cell_type": "code",
   "execution_count": 34,
   "metadata": {},
   "outputs": [],
   "source": [
    "df_pd = df.withColumn('pickup_date', F.to_date(df.pickup_datetime))"
   ]
  },
  {
   "cell_type": "code",
   "execution_count": 35,
   "metadata": {},
   "outputs": [
    {
     "data": {
      "text/plain": [
       "Row(hvfhs_license_num='HV0003', dispatching_base_num='B02764', originating_base_num='B02764', request_datetime=datetime.datetime(2021, 2, 1, 6, 59), on_scene_datetime=datetime.datetime(2021, 2, 1, 7, 10, 19), pickup_datetime=datetime.datetime(2021, 2, 1, 7, 10, 40), dropoff_datetime=datetime.datetime(2021, 2, 1, 7, 21, 9), PULocationID=35, DOLocationID=39, trip_miles=2.06, trip_time=629, base_passenger_fare=17.14, tolls=0.0, bcf=0.51, sales_tax=1.52, congestion_surcharge=0.0, airport_fee=None, tips=0.0, driver_pay=9.79, shared_request_flag='N', shared_match_flag='N', access_a_ride_flag=' ', wav_request_flag='N', wav_match_flag='N', pickup_date=datetime.date(2021, 2, 1))"
      ]
     },
     "execution_count": 35,
     "metadata": {},
     "output_type": "execute_result"
    }
   ],
   "source": [
    "df_pd.head()"
   ]
  },
  {
   "cell_type": "code",
   "execution_count": 36,
   "metadata": {},
   "outputs": [],
   "source": [
    "df_pd.registerTempTable(\"fhvhv_table\")"
   ]
  },
  {
   "cell_type": "code",
   "execution_count": 41,
   "metadata": {},
   "outputs": [
    {
     "name": "stdout",
     "output_type": "stream",
     "text": [
      "+--------+\n",
      "|count(1)|\n",
      "+--------+\n",
      "|  425928|\n",
      "+--------+\n",
      "\n"
     ]
    }
   ],
   "source": [
    "df_hm_trip = spark.sql(\"\"\"\n",
    "SELECT\n",
    "    COUNT(1)\n",
    "FROM\n",
    "    fhvhv_table\n",
    "WHERE\n",
    "    pickup_date=\"2021-02-15\"\n",
    "\"\"\")\n",
    "df_hm_trip.show()"
   ]
  },
  {
   "cell_type": "code",
   "execution_count": 50,
   "metadata": {},
   "outputs": [
    {
     "data": {
      "text/plain": [
       "425928"
      ]
     },
     "execution_count": 50,
     "metadata": {},
     "output_type": "execute_result"
    }
   ],
   "source": [
    "df \\\n",
    "    .withColumn('pickup_date', F.to_date(df.pickup_datetime)) \\\n",
    "    .filter('pickup_date = \"2021-02-15\"') \\\n",
    "    .count()"
   ]
  },
  {
   "cell_type": "markdown",
   "metadata": {},
   "source": [
    "## Q4"
   ]
  },
  {
   "cell_type": "code",
   "execution_count": 58,
   "metadata": {},
   "outputs": [
    {
     "name": "stdout",
     "output_type": "stream",
     "text": [
      "+-----------+-------------+\n",
      "|pickup_date|max(duration)|\n",
      "+-----------+-------------+\n",
      "| 2021-02-11|        75540|\n",
      "| 2021-02-17|        57221|\n",
      "| 2021-02-20|        44039|\n",
      "| 2021-02-04|        40653|\n",
      "| 2021-02-26|        35010|\n",
      "+-----------+-------------+\n",
      "\n"
     ]
    }
   ],
   "source": [
    "df \\\n",
    "    .withColumn('duration', df.dropoff_datetime.cast('long') - df.pickup_datetime.cast('long')) \\\n",
    "    .withColumn('pickup_date', F.to_date(df.pickup_datetime)) \\\n",
    "    .groupBy('pickup_date') \\\n",
    "    .max('duration') \\\n",
    "    .orderBy('max(duration)', ascending=False) \\\n",
    "    .limit(5) \\\n",
    "    .show()"
   ]
  },
  {
   "cell_type": "code",
   "execution_count": 62,
   "metadata": {},
   "outputs": [
    {
     "name": "stdout",
     "output_type": "stream",
     "text": [
      "+-----------+-----------------+\n",
      "|pickup_date|         duration|\n",
      "+-----------+-----------------+\n",
      "| 2021-02-11|           1259.0|\n",
      "| 2021-02-17|953.6833333333333|\n",
      "| 2021-02-20|733.9833333333333|\n",
      "| 2021-02-04|           677.55|\n",
      "| 2021-02-26|            583.5|\n",
      "| 2021-02-18|576.8666666666667|\n",
      "| 2021-02-10|541.2666666666667|\n",
      "| 2021-02-25|           540.65|\n",
      "| 2021-02-22|           537.05|\n",
      "| 2021-02-06|524.1166666666667|\n",
      "+-----------+-----------------+\n",
      "\n"
     ]
    }
   ],
   "source": [
    "spark.sql(\"\"\"\n",
    "SELECT\n",
    "    to_date(pickup_datetime) AS pickup_date,\n",
    "    Max(CAST(dropoff_datetime AS LONG) - CAST(pickup_datetime AS LONG)) / 60 AS duration\n",
    "FROM\n",
    "    fhvhv_table\n",
    "GROUP BY \n",
    "    1\n",
    "ORDER BY\n",
    "    2 desc\n",
    "LIMIT 10;\n",
    "\"\"\").show()"
   ]
  },
  {
   "cell_type": "markdown",
   "metadata": {},
   "source": [
    "## Q5"
   ]
  },
  {
   "cell_type": "code",
   "execution_count": 66,
   "metadata": {},
   "outputs": [
    {
     "name": "stdout",
     "output_type": "stream",
     "text": [
      "+--------------------+--------+\n",
      "|dispatching_base_num|count(1)|\n",
      "+--------------------+--------+\n",
      "|              B02510| 3233664|\n",
      "|              B02764|  965568|\n",
      "|              B02872|  882689|\n",
      "|              B02875|  685390|\n",
      "|              B02765|  559768|\n",
      "|              B02869|  429720|\n",
      "|              B02887|  322331|\n",
      "|              B02871|  312364|\n",
      "|              B02864|  311603|\n",
      "|              B02866|  311089|\n",
      "+--------------------+--------+\n",
      "\n"
     ]
    }
   ],
   "source": [
    "spark.sql(\"\"\"\n",
    "SELECT\n",
    "    dispatching_base_num,\n",
    "    COUNT(1)\n",
    "FROM\n",
    "    fhvhv_table\n",
    "GROUP BY \n",
    "    1\n",
    "ORDER BY\n",
    "    2 desc\n",
    "LIMIT 10;\n",
    "\"\"\").show()"
   ]
  },
  {
   "cell_type": "code",
   "execution_count": 68,
   "metadata": {},
   "outputs": [
    {
     "name": "stdout",
     "output_type": "stream",
     "text": [
      "+--------------------+-------+\n",
      "|dispatching_base_num|  count|\n",
      "+--------------------+-------+\n",
      "|              B02510|3233664|\n",
      "|              B02764| 965568|\n",
      "|              B02872| 882689|\n",
      "|              B02875| 685390|\n",
      "|              B02765| 559768|\n",
      "+--------------------+-------+\n",
      "\n"
     ]
    }
   ],
   "source": [
    "df \\\n",
    "    .groupBy('dispatching_base_num') \\\n",
    "    .count() \\\n",
    "    .orderBy('count', ascending=False) \\\n",
    "    .limit(5) \\\n",
    "    .show()"
   ]
  },
  {
   "cell_type": "markdown",
   "metadata": {},
   "source": [
    "Q6"
   ]
  },
  {
   "cell_type": "code",
   "execution_count": 94,
   "metadata": {},
   "outputs": [],
   "source": [
    "from pyspark.sql import types\n",
    "\n",
    "schema = types.StructType([\n",
    "types.StructField(\"LocationID\", types.StringType(), True),\n",
    "types.StructField(\"Borough\", types.StringType(), True),\n",
    "types.StructField(\"Zone\", types.StringType(), True),\n",
    "types.StructField(\"service_zone\", types.StringType(), True)\n",
    "])\n",
    "\n",
    "df_zone = spark.read \\\n",
    "                .option('haeder', 'true') \\\n",
    "                .schema(schema) \\\n",
    "                .csv(\"code/data/zone/\")\n",
    "df_zone.registerTempTable(\"zone\")"
   ]
  },
  {
   "cell_type": "code",
   "execution_count": 95,
   "metadata": {},
   "outputs": [
    {
     "data": {
      "text/plain": [
       "['LocationID', 'Borough', 'Zone', 'service_zone']"
      ]
     },
     "execution_count": 95,
     "metadata": {},
     "output_type": "execute_result"
    }
   ],
   "source": [
    "df_zone.columns"
   ]
  },
  {
   "cell_type": "code",
   "execution_count": 96,
   "metadata": {},
   "outputs": [
    {
     "name": "stdout",
     "output_type": "stream",
     "text": [
      "+----------+---------+--------------------+------------+\n",
      "|LocationID|  Borough|                Zone|service_zone|\n",
      "+----------+---------+--------------------+------------+\n",
      "|LocationID|  Borough|                Zone|service_zone|\n",
      "|         1|      EWR|      Newark Airport|         EWR|\n",
      "|         2|   Queens|         Jamaica Bay|   Boro Zone|\n",
      "|         3|    Bronx|Allerton/Pelham G...|   Boro Zone|\n",
      "|         4|Manhattan|       Alphabet City| Yellow Zone|\n",
      "+----------+---------+--------------------+------------+\n",
      "\n"
     ]
    }
   ],
   "source": [
    "spark.sql(\"\"\"\n",
    "SELECT * FROM zone LIMIT 5;\n",
    "\"\"\").show()"
   ]
  },
  {
   "cell_type": "code",
   "execution_count": 101,
   "metadata": {},
   "outputs": [
    {
     "data": {
      "text/plain": [
       "[Row(pickup_dropoff='East New York / East New York', count(1)=45041),\n",
       " Row(pickup_dropoff='Borough Park / Borough Park', count(1)=37329),\n",
       " Row(pickup_dropoff='Canarsie / Canarsie', count(1)=28026),\n",
       " Row(pickup_dropoff='Crown Heights North / Crown Heights North', count(1)=25976),\n",
       " Row(pickup_dropoff='Bay Ridge / Bay Ridge', count(1)=17934)]"
      ]
     },
     "execution_count": 101,
     "metadata": {},
     "output_type": "execute_result"
    }
   ],
   "source": [
    "spark.sql(\"\"\"\n",
    "SELECT \n",
    "    concat(COALESCE(znpu.Zone, 'Unknown'), ' / ', COALESCE(zndo.Zone, 'Unknown')) AS pickup_dropoff,\n",
    "    COUNT(1)\n",
    "FROM \n",
    "    fhvhv_table AS F\n",
    "JOIN zone AS znpu\n",
    "    ON F.PULocationID = znpu.LocationID\n",
    "JOIN zone AS zndo\n",
    "    ON F.DOLocationID = zndo.LocationID\n",
    "GROUP BY \n",
    "    1\n",
    "ORDER BY \n",
    "    2 DESC\n",
    "LIMIT 5;\n",
    "\"\"\").take(5)"
   ]
  },
  {
   "cell_type": "code",
   "execution_count": null,
   "metadata": {},
   "outputs": [],
   "source": []
  }
 ],
 "metadata": {
  "interpreter": {
   "hash": "7cc8991fcdd7ce320c4e19da9d4106a2cb17014c8c04e0d3e50e30857f92ed35"
  },
  "kernelspec": {
   "display_name": "Python 3.9.12 ('dtc')",
   "language": "python",
   "name": "python3"
  },
  "language_info": {
   "codemirror_mode": {
    "name": "ipython",
    "version": 3
   },
   "file_extension": ".py",
   "mimetype": "text/x-python",
   "name": "python",
   "nbconvert_exporter": "python",
   "pygments_lexer": "ipython3",
   "version": "3.9.12"
  },
  "orig_nbformat": 4
 },
 "nbformat": 4,
 "nbformat_minor": 2
}
