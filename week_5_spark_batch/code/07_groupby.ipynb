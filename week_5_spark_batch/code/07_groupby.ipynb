{
 "cells": [
  {
   "cell_type": "code",
   "execution_count": 1,
   "metadata": {},
   "outputs": [],
   "source": [
    "import findspark\n",
    "findspark.init()"
   ]
  },
  {
   "cell_type": "code",
   "execution_count": 2,
   "metadata": {},
   "outputs": [],
   "source": [
    "import pyspark\n",
    "from pyspark.sql import SparkSession\n",
    "\n",
    "spark = SparkSession.builder \\\n",
    "    .master(\"local[*]\") \\\n",
    "    .appName('test') \\\n",
    "    .getOrCreate()"
   ]
  },
  {
   "cell_type": "code",
   "execution_count": 3,
   "metadata": {},
   "outputs": [],
   "source": [
    "df_green = spark.read.parquet('data/pq/green/*/*')"
   ]
  },
  {
   "cell_type": "code",
   "execution_count": 5,
   "metadata": {},
   "outputs": [],
   "source": [
    "df_green.registerTempTable('green')"
   ]
  },
  {
   "cell_type": "code",
   "execution_count": 17,
   "metadata": {},
   "outputs": [],
   "source": [
    "df_green_revenue = spark.sql(\"\"\"\n",
    "SELECT \n",
    "    date_trunc('hour', lpep_pickup_datetime) AS hour, \n",
    "    PULocationID AS zone,\n",
    "    \n",
    "    SUM(total_amount) AS amount,\n",
    "    COUNT(1) AS number_records\n",
    "FROM\n",
    "    green\n",
    "WHERE\n",
    "    lpep_pickup_datetime >= '2020-01-01 00:00:00'\n",
    "GROUP BY\n",
    "    1, 2\n",
    "ORDER BY\n",
    "    1, 2\n",
    "\"\"\")"
   ]
  },
  {
   "cell_type": "code",
   "execution_count": 18,
   "metadata": {},
   "outputs": [
    {
     "name": "stdout",
     "output_type": "stream",
     "text": [
      "+-------------------+----+------------------+--------------+\n",
      "|               hour|zone|            amount|number_records|\n",
      "+-------------------+----+------------------+--------------+\n",
      "|2020-01-01 00:00:00|   7| 769.7299999999998|            45|\n",
      "|2020-01-01 00:00:00|  17|            195.03|             9|\n",
      "|2020-01-01 00:00:00|  18|               7.8|             1|\n",
      "|2020-01-01 00:00:00|  22|              15.8|             1|\n",
      "|2020-01-01 00:00:00|  24|              87.6|             3|\n",
      "|2020-01-01 00:00:00|  25|             531.0|            26|\n",
      "|2020-01-01 00:00:00|  29|              61.3|             1|\n",
      "|2020-01-01 00:00:00|  32| 68.94999999999999|             2|\n",
      "|2020-01-01 00:00:00|  33|            317.27|            11|\n",
      "|2020-01-01 00:00:00|  35|129.95999999999998|             5|\n",
      "|2020-01-01 00:00:00|  36|            295.34|            11|\n",
      "|2020-01-01 00:00:00|  37|            175.67|             6|\n",
      "|2020-01-01 00:00:00|  38| 98.78999999999999|             2|\n",
      "|2020-01-01 00:00:00|  40|168.98000000000002|             8|\n",
      "|2020-01-01 00:00:00|  41| 1363.959999999999|            84|\n",
      "|2020-01-01 00:00:00|  42| 799.7599999999995|            52|\n",
      "|2020-01-01 00:00:00|  43|            107.52|             6|\n",
      "|2020-01-01 00:00:00|  47|              13.3|             1|\n",
      "|2020-01-01 00:00:00|  49|266.76000000000005|            14|\n",
      "|2020-01-01 00:00:00|  51|              17.8|             2|\n",
      "+-------------------+----+------------------+--------------+\n",
      "only showing top 20 rows\n",
      "\n"
     ]
    }
   ],
   "source": [
    "df_green_revenue.show()"
   ]
  },
  {
   "cell_type": "code",
   "execution_count": 27,
   "metadata": {},
   "outputs": [],
   "source": [
    "df_green_revenue \\\n",
    "    .repartition(20) \\\n",
    "    .write.parquet('data/report/revenue/green', mode='overwrite')"
   ]
  },
  {
   "cell_type": "code",
   "execution_count": 20,
   "metadata": {},
   "outputs": [],
   "source": [
    "df_yellow = spark.read.parquet('data/pq/yellow/*/*')"
   ]
  },
  {
   "cell_type": "code",
   "execution_count": 21,
   "metadata": {},
   "outputs": [],
   "source": [
    "df_yellow.registerTempTable('yellow')"
   ]
  },
  {
   "cell_type": "code",
   "execution_count": 25,
   "metadata": {},
   "outputs": [],
   "source": [
    "df_yellow_revenue = spark.sql(\"\"\"\n",
    "SELECT \n",
    "    date_trunc('hour', tpep_pickup_datetime) AS hour, \n",
    "    PULocationID AS zone,\n",
    "    \n",
    "    SUM(total_amount) AS amount,\n",
    "    COUNT(1) AS number_records\n",
    "FROM\n",
    "    yellow\n",
    "WHERE\n",
    "    tpep_pickup_datetime >= '2020-01-01 00:00:00'\n",
    "GROUP BY\n",
    "    1, 2\n",
    "ORDER BY\n",
    "    1, 2\n",
    "\"\"\")"
   ]
  },
  {
   "cell_type": "code",
   "execution_count": 26,
   "metadata": {},
   "outputs": [],
   "source": [
    "df_yellow_revenue.write.parquet('data/report/revenue/yellow')"
   ]
  },
  {
   "cell_type": "code",
   "execution_count": 30,
   "metadata": {},
   "outputs": [],
   "source": [
    "df_green_revenue_tmp = df_green_revenue \\\n",
    "    .withColumnRenamed('amount', 'green_amount') \\\n",
    "    .withColumnRenamed('number_records', 'green_number_records')\n",
    "\n",
    "df_yellow_revenue_tmp = df_yellow_revenue \\\n",
    "    .withColumnRenamed('amount', 'yellow_amount') \\\n",
    "    .withColumnRenamed('number_records', 'yellow_number_records')"
   ]
  },
  {
   "cell_type": "code",
   "execution_count": 31,
   "metadata": {},
   "outputs": [],
   "source": [
    "df_join = df_green_revenue_tmp.join(df_yellow_revenue_tmp, on=['hour', 'zone'], how='outer')"
   ]
  },
  {
   "cell_type": "code",
   "execution_count": 32,
   "metadata": {},
   "outputs": [
    {
     "name": "stdout",
     "output_type": "stream",
     "text": [
      "+-------------------+----+------------------+--------------------+------------------+---------------------+\n",
      "|               hour|zone|      green_amount|green_number_records|     yellow_amount|yellow_number_records|\n",
      "+-------------------+----+------------------+--------------------+------------------+---------------------+\n",
      "|2020-01-01 04:00:00| 127|             42.72|                   3|60.480000000000004|                    3|\n",
      "|2020-01-01 05:00:00| 114|              null|                null|            720.75|                   43|\n",
      "|2020-01-01 06:00:00|  65|             18.05|                   1|38.260000000000005|                    4|\n",
      "|2020-01-01 06:00:00| 161|              null|                null|1513.7399999999998|                   43|\n",
      "|2020-01-01 08:00:00|  17|              null|                null|             46.34|                    3|\n",
      "|2020-01-01 08:00:00| 107|              null|                null| 791.9599999999998|                   48|\n",
      "|2020-01-01 08:00:00| 162|              null|                null|            767.81|                   46|\n",
      "|2020-01-01 09:00:00| 234|              null|                null| 809.8100000000003|                   48|\n",
      "|2020-01-01 10:00:00| 170|              null|                null|2637.3399999999974|                  173|\n",
      "|2020-01-01 11:00:00|  22|154.82000000000002|                   6|              62.7|                    1|\n",
      "|2020-01-01 11:00:00| 135|              null|                null|             61.92|                    1|\n",
      "|2020-01-01 12:00:00|  10|              null|                null|             73.67|                    1|\n",
      "|2020-01-01 14:00:00| 235|             81.53|                   3|             21.31|                    1|\n",
      "|2020-01-01 16:00:00|  70|               9.8|                   1|              null|                 null|\n",
      "|2020-01-01 17:00:00| 153|               0.0|                   1|              null|                 null|\n",
      "|2020-01-01 17:00:00| 181|201.31000000000003|                  11|100.00999999999999|                    6|\n",
      "|2020-01-01 20:00:00| 224|              null|                null|            104.45|                    5|\n",
      "|2020-01-02 01:00:00|  68|              null|                null| 709.1400000000001|                   35|\n",
      "|2020-01-02 02:00:00| 100|              null|                null|187.64999999999998|                    9|\n",
      "|2020-01-02 06:00:00|  19|              66.6|                   2|161.42000000000002|                    3|\n",
      "+-------------------+----+------------------+--------------------+------------------+---------------------+\n",
      "only showing top 20 rows\n",
      "\n"
     ]
    }
   ],
   "source": [
    "df_join.show()"
   ]
  },
  {
   "cell_type": "code",
   "execution_count": 33,
   "metadata": {},
   "outputs": [],
   "source": [
    "df_join.write.parquet('data/report/revenue/total')"
   ]
  },
  {
   "cell_type": "code",
   "execution_count": 34,
   "metadata": {},
   "outputs": [],
   "source": [
    "df_join = spark.read.parquet('data/report/revenue/total')"
   ]
  },
  {
   "cell_type": "code",
   "execution_count": 35,
   "metadata": {},
   "outputs": [
    {
     "name": "stdout",
     "output_type": "stream",
     "text": [
      "+-------------------+----+------------------+--------------------+------------------+---------------------+\n",
      "|               hour|zone|      green_amount|green_number_records|     yellow_amount|yellow_number_records|\n",
      "+-------------------+----+------------------+--------------------+------------------+---------------------+\n",
      "|2020-01-01 02:00:00|  42|            469.12|                  33| 950.1199999999997|                   73|\n",
      "|2020-01-01 06:00:00| 228|              15.3|                   1|              null|                 null|\n",
      "|2020-01-01 06:00:00| 246|              null|                null|            437.72|                   21|\n",
      "|2020-01-01 09:00:00| 163|              null|                null|1990.4399999999991|                   94|\n",
      "|2020-01-01 10:00:00|  66|             16.05|                   1|             66.22|                    4|\n",
      "|2020-01-01 10:00:00| 114|              null|                null|293.45000000000005|                   19|\n",
      "|2020-01-01 12:00:00| 123|             28.86|                   2|              null|                 null|\n",
      "|2020-01-01 12:00:00| 146|             30.66|                   1|            153.16|                    6|\n",
      "|2020-01-01 13:00:00| 106|              null|                null|               6.3|                    1|\n",
      "|2020-01-01 14:00:00|  35|             42.88|                   3|             55.12|                    1|\n",
      "|2020-01-01 15:00:00| 136|103.75000000000001|                   3|              38.1|                    2|\n",
      "|2020-01-01 19:00:00|  37|              null|                null|              9.95|                    1|\n",
      "|2020-01-01 19:00:00| 123|             33.85|                   2|              null|                 null|\n",
      "|2020-01-01 20:00:00|  80|            336.97|                   7|            122.15|                    3|\n",
      "|2020-01-01 21:00:00|  68|              null|                null| 2234.149999999998|                  146|\n",
      "|2020-01-01 21:00:00| 140|              null|                null| 821.4199999999998|                   54|\n",
      "|2020-01-01 21:00:00| 168|            106.67|                   5|              10.8|                    1|\n",
      "|2020-01-01 21:00:00| 248|             50.04|                   2|              null|                 null|\n",
      "|2020-01-02 04:00:00| 153|             30.73|                   2|              null|                 null|\n",
      "|2020-01-02 08:00:00| 126|              null|                null|             99.92|                    1|\n",
      "+-------------------+----+------------------+--------------------+------------------+---------------------+\n",
      "only showing top 20 rows\n",
      "\n"
     ]
    }
   ],
   "source": [
    "df_join.show()"
   ]
  },
  {
   "cell_type": "code",
   "execution_count": null,
   "metadata": {},
   "outputs": [],
   "source": []
  }
 ],
 "metadata": {
  "interpreter": {
   "hash": "ff02b15e81b200803b95f0eea9b952cc6c29382518ca78f03bc1d80f7ad055ce"
  },
  "kernelspec": {
   "display_name": "Python 3.9.12 ('base')",
   "language": "python",
   "name": "python3"
  },
  "language_info": {
   "codemirror_mode": {
    "name": "ipython",
    "version": 3
   },
   "file_extension": ".py",
   "mimetype": "text/x-python",
   "name": "python",
   "nbconvert_exporter": "python",
   "pygments_lexer": "ipython3",
   "version": "3.9.12"
  },
  "orig_nbformat": 4
 },
 "nbformat": 4,
 "nbformat_minor": 2
}
