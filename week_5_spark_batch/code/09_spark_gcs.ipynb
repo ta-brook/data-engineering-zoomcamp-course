{
 "cells": [
  {
   "cell_type": "code",
   "execution_count": 1,
   "metadata": {},
   "outputs": [],
   "source": [
    "import findspark\n",
    "findspark.init()"
   ]
  },
  {
   "cell_type": "code",
   "execution_count": 6,
   "metadata": {},
   "outputs": [],
   "source": [
    "import pyspark\n",
    "from pyspark.sql import SparkSession\n",
    "from pyspark.conf import SparkConf\n",
    "from pyspark.context import SparkContext\n"
   ]
  },
  {
   "cell_type": "code",
   "execution_count": 7,
   "metadata": {},
   "outputs": [],
   "source": [
    "credentials_location = 'C:/Users/tanaw/.google/credentials/google_credentials.json'\n",
    "\n",
    "conf = SparkConf() \\\n",
    "    .setMaster('local[*]') \\\n",
    "    .setAppName('test') \\\n",
    "    .set(\"spark.jars\", \"./lib/gcs-connector-hadoop3-2.2.5.jar\") \\\n",
    "    .set(\"spark.hadoop.google.cloud.auth.service.account.enable\", \"true\") \\\n",
    "    .set(\"spark.hadoop.google.cloud.auth.service.account.json.keyfile\", credentials_location)\n"
   ]
  },
  {
   "cell_type": "code",
   "execution_count": 8,
   "metadata": {},
   "outputs": [],
   "source": [
    "sc = SparkContext(conf=conf)\n",
    "\n",
    "hadoop_conf = sc._jsc.hadoopConfiguration()\n",
    "\n",
    "hadoop_conf.set(\"fs.AbstractFileSystem.gs.impl\",  \"com.google.cloud.hadoop.fs.gcs.GoogleHadoopFS\")\n",
    "hadoop_conf.set(\"fs.gs.impl\", \"com.google.cloud.hadoop.fs.gcs.GoogleHadoopFileSystem\")\n",
    "hadoop_conf.set(\"fs.gs.auth.service.account.json.keyfile\", credentials_location)\n",
    "hadoop_conf.set(\"fs.gs.auth.service.account.enable\", \"true\")"
   ]
  },
  {
   "cell_type": "code",
   "execution_count": 9,
   "metadata": {},
   "outputs": [],
   "source": [
    "spark = SparkSession.builder \\\n",
    "    .config(conf=sc.getConf()) \\\n",
    "    .getOrCreate()"
   ]
  },
  {
   "cell_type": "code",
   "execution_count": 10,
   "metadata": {},
   "outputs": [],
   "source": [
    "df_green = spark.read.parquet('gs://dtc_data_lake_tensile-ethos-349916/pq/green/*/*')"
   ]
  },
  {
   "cell_type": "code",
   "execution_count": 11,
   "metadata": {},
   "outputs": [
    {
     "name": "stdout",
     "output_type": "stream",
     "text": [
      "+--------+--------------------+---------------------+------------------+----------+------------+------------+---------------+-------------+-----------+-----+-------+----------+------------+---------+---------------------+------------+------------+---------+--------------------+\n",
      "|VendorID|lpep_pickup_datetime|lpep_dropoff_datetime|store_and_fwd_flag|RatecodeID|PULocationID|DOLocationID|passenger_count|trip_distance|fare_amount|extra|mta_tax|tip_amount|tolls_amount|ehail_fee|improvement_surcharge|total_amount|payment_type|trip_type|congestion_surcharge|\n",
      "+--------+--------------------+---------------------+------------------+----------+------------+------------+---------------+-------------+-----------+-----+-------+----------+------------+---------+---------------------+------------+------------+---------+--------------------+\n",
      "|       2| 2020-01-20 11:25:54|  2020-01-20 11:44:53|                 N|      null|          66|         113|           null|         3.91|       15.5|  0.0|    0.5|      3.81|         0.0|     null|                  0.3|       22.86|        null|     null|                2.75|\n",
      "|       2| 2020-01-23 08:20:42|  2020-01-23 08:25:50|                 N|      null|         166|         151|           null|         1.19|        5.5|  0.0|    0.5|       0.0|         0.0|     null|                  0.3|         6.3|        null|     null|                 0.0|\n",
      "|       2| 2020-01-07 08:30:00|  2020-01-07 08:44:00|              null|      null|         191|         131|           null|         3.06|      27.06| 2.75|    0.0|       0.0|         0.0|     null|                  0.3|       30.11|        null|     null|                null|\n",
      "|       2| 2020-01-29 20:19:16|  2020-01-29 20:38:53|                 N|      null|         166|         262|           null|         3.58|       15.0|  0.5|    0.5|      3.81|         0.0|     null|                  0.3|       22.86|        null|     null|                2.75|\n",
      "|       2| 2020-01-04 05:07:31|  2020-01-04 05:23:08|                 N|      null|         173|         129|           null|         2.81|       13.0|  0.5|    0.5|       0.0|         0.0|     null|                  0.3|        14.3|        null|     null|                 0.0|\n",
      "|       2| 2020-01-11 10:09:00|  2020-01-11 10:18:00|              null|      null|          77|          76|           null|         1.32|        8.0|  0.0|    0.5|       0.0|         0.0|     null|                  0.3|         8.8|        null|     null|                null|\n",
      "|       1| 2020-01-08 22:55:25|  2020-01-08 22:59:07|                 N|      null|          25|         181|           null|          0.8|        5.0|  0.5|    0.5|       3.7|         0.0|     null|                  0.3|        10.0|        null|     null|                 0.0|\n",
      "|       2| 2020-01-31 20:14:49|  2020-01-31 20:24:42|                 N|      null|          66|          65|           null|         1.33|       18.8|  0.0|    0.0|      3.82|         0.0|     null|                  0.3|       22.92|        null|     null|                 0.0|\n",
      "|       2| 2020-01-03 12:12:00|  2020-01-03 12:17:00|              null|      null|         241|         136|           null|         0.58|      19.36| 2.75|    0.5|       0.0|         0.0|     null|                  0.0|       22.61|        null|     null|                null|\n",
      "|       2| 2020-01-16 08:12:19|  2020-01-16 08:27:02|                 N|      null|          74|          75|           null|         1.47|       10.0|  0.0|    0.5|      2.16|         0.0|     null|                  0.3|       12.96|        null|     null|                 0.0|\n",
      "|       2| 2020-01-31 09:47:00|  2020-01-31 10:03:00|              null|      null|         153|          20|           null|         2.95|      22.31|  0.0|    0.0|       0.0|         0.0|     null|                  0.3|       22.61|        null|     null|                null|\n",
      "|       1| 2020-01-13 20:23:10|  2020-01-13 20:32:58|                 N|      null|          41|          75|           null|          1.8|        9.0|  0.5|    0.5|      2.06|         0.0|     null|                  0.3|       12.36|        null|     null|                 0.0|\n",
      "|       2| 2020-01-31 22:44:33|  2020-01-31 22:49:09|                 N|      null|          95|          95|           null|         1.17|        6.0|  0.5|    0.5|      1.46|         0.0|     null|                  0.3|        8.76|        null|     null|                 0.0|\n",
      "|       2| 2020-01-19 13:10:17|  2020-01-19 13:15:20|                 N|      null|          41|          42|           null|         0.92|        5.5|  0.0|    0.5|       2.0|         0.0|     null|                  0.3|         8.3|        null|     null|                 0.0|\n",
      "|       2| 2020-01-13 19:20:25|  2020-01-13 19:26:52|                 N|      null|          52|          33|           null|         0.89|        6.0|  1.0|    0.5|       0.0|         0.0|     null|                  0.3|         7.8|        null|     null|                 0.0|\n",
      "|       2| 2020-01-06 12:14:00|  2020-01-06 12:44:00|              null|      null|         249|          94|           null|        11.95|      39.41| 2.75|    0.5|       0.0|         0.0|     null|                  0.3|       42.96|        null|     null|                null|\n",
      "|       1| 2020-01-17 13:55:52|  2020-01-17 14:03:37|                 N|      null|          74|          41|           null|          0.8|        6.5|  0.0|    0.5|       0.0|         0.0|     null|                  0.3|         7.3|        null|     null|                 0.0|\n",
      "|       2| 2020-01-23 18:09:18|  2020-01-23 18:25:36|                 N|      null|          74|         116|           null|         2.19|       12.0|  1.0|    0.5|      4.14|         0.0|     null|                  0.3|       17.94|        null|     null|                 0.0|\n",
      "|       2| 2020-01-16 18:20:39|  2020-01-16 18:30:00|                 N|      null|           7|         223|           null|         1.51|        8.0|  1.0|    0.5|       0.0|         0.0|     null|                  0.3|         9.8|        null|     null|                 0.0|\n",
      "|       2| 2020-01-19 21:49:23|  2020-01-19 21:49:23|                 N|      null|         264|         264|           null|          0.0|        2.5|  0.5|    0.5|       0.0|         0.0|     null|                  0.3|         3.8|        null|     null|                 0.0|\n",
      "+--------+--------------------+---------------------+------------------+----------+------------+------------+---------------+-------------+-----------+-----+-------+----------+------------+---------+---------------------+------------+------------+---------+--------------------+\n",
      "only showing top 20 rows\n",
      "\n"
     ]
    }
   ],
   "source": [
    "df_green.show()"
   ]
  },
  {
   "cell_type": "code",
   "execution_count": null,
   "metadata": {},
   "outputs": [],
   "source": []
  }
 ],
 "metadata": {
  "interpreter": {
   "hash": "7cc8991fcdd7ce320c4e19da9d4106a2cb17014c8c04e0d3e50e30857f92ed35"
  },
  "kernelspec": {
   "display_name": "Python 3.9.12 ('dtc')",
   "language": "python",
   "name": "python3"
  },
  "language_info": {
   "codemirror_mode": {
    "name": "ipython",
    "version": 3
   },
   "file_extension": ".py",
   "mimetype": "text/x-python",
   "name": "python",
   "nbconvert_exporter": "python",
   "pygments_lexer": "ipython3",
   "version": "3.9.12"
  },
  "orig_nbformat": 4
 },
 "nbformat": 4,
 "nbformat_minor": 2
}
